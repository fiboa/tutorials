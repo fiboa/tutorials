{
 "cells": [
  {
   "cell_type": "markdown",
   "id": "208d2934-b162-41bc-9a70-c8a995552db5",
   "metadata": {},
   "source": [
    "# Loading fiboa datasets from Source Cooperative"
   ]
  },
  {
   "cell_type": "markdown",
   "id": "32e74d2c-72fc-4564-8745-739a95b680cc",
   "metadata": {
    "tags": []
   },
   "source": [
    "---\n",
    "\n",
    "**WARNING:** The fiboa CLI Python code is not really a public API or library yet. The imports and methods may change at any time. This is a proof-of-concept and not really meant for production use cases yet!\n",
    "\n",
    "---\n",
    "\n",
    "Make sure that you have fiboa-cli installed.  \n",
    "Otherwise install via `pip install fiboa-cli`.  \n",
    "Once done, we can import the library:"
   ]
  },
  {
   "cell_type": "code",
   "execution_count": 1,
   "id": "8aabf5dd-3e43-4e3a-b6f4-65d2b968f6f5",
   "metadata": {
    "tags": []
   },
   "outputs": [],
   "source": [
    "from fiboa_cli.util import load_parquet_data"
   ]
  },
  {
   "cell_type": "markdown",
   "id": "c1912ef5-7e01-4059-8230-688f28e52cb5",
   "metadata": {},
   "source": [
    "We can load fiboa data from [Source Cooperative](https://beta.source.coop/fiboa/). Here are the direct download links to some data from Austria and Germany:\n",
    "- Austria: <https://data.source.coop/fiboa/austria/inspire_referenzen_2021.parquet> (EPSG:31287)\n",
    "- Berlin and Brandenburg, Germany: <https://data.source.coop/fiboa/de-bb/dfbk.parquet> (EPSG:25833)\n",
    "- Lower Saxony, Germany: <https://data.source.coop/fiboa/de-nds/FB_NDS.parquet> (EPSG:25832)\n",
    "- North Rhine-Westphalia, Germany: <https://data.source.coop/fiboa/de-nrw/LFK-AKTI_EPSG25832.parquet> (EPSG:25832)\n",
    "- Schleswig-Holstein, Germany: <https://data.source.coop/fiboa/de-sh/Feldbloecke_2024.parquet> (EPSG:4647)\n",
    "\n",
    "Below is a simple example how to load one of the datasets and print an excerpt of data:"
   ]
  },
  {
   "cell_type": "code",
   "execution_count": 2,
   "id": "ba9fc879-1b41-456f-a825-93b7d2b1fb85",
   "metadata": {},
   "outputs": [
    {
     "name": "stdout",
     "output_type": "stream",
     "text": [
      "                                            geometry  \\\n",
      "0  MULTIPOLYGON (((32427203.690 6004239.850, 3242...   \n",
      "1  MULTIPOLYGON (((32427174.010 6004065.310, 3242...   \n",
      "2  MULTIPOLYGON (((32426555.520 6004971.950, 3242...   \n",
      "3  MULTIPOLYGON (((32426680.970 6004743.340, 3242...   \n",
      "4  MULTIPOLYGON (((32426473.120 6005003.740, 3242...   \n",
      "\n",
      "     determination_datetime              flik                id    area  \\\n",
      "0 2024-01-01 00:00:00+00:00  DESHLIL080100007  DESHLIL080100007  0.4897   \n",
      "1 2024-01-01 00:00:00+00:00  DESHLIL080100017  DESHLIL080100017  0.6807   \n",
      "2 2024-01-01 00:00:00+00:00  DESHLIL080100003  DESHLIL080100003  4.0968   \n",
      "3 2024-01-01 00:00:00+00:00  DESHLIL080100005  DESHLIL080100005  5.4543   \n",
      "4 2024-01-01 00:00:00+00:00  DESHLIL080110000  DESHLIL080110000  0.2203   \n",
      "\n",
      "             hbn  \n",
      "0  Dauergrünland  \n",
      "1  Dauergrünland  \n",
      "2  Dauergrünland  \n",
      "3  Dauergrünland  \n",
      "4  Dauergrünland  \n"
     ]
    }
   ],
   "source": [
    "example = load_parquet_data(\"https://data.source.coop/fiboa/de-sh/Feldbloecke_2024.parquet\")\n",
    "print(example.head())"
   ]
  },
  {
   "cell_type": "markdown",
   "id": "0bf848e3-cd20-4c11-aabb-297e3cee1e6a",
   "metadata": {},
   "source": [
    "We want to load all fiboa datasets we currently have and merge them into a single GeoDataFrame.  \n",
    "First of all, let's define a map with all the URLs we can download data from:"
   ]
  },
  {
   "cell_type": "code",
   "execution_count": 3,
   "id": "97e2e360-fb4c-4bd5-b46b-2ce8d50e792b",
   "metadata": {},
   "outputs": [],
   "source": [
    "sources = {\n",
    "#   'at': 'https://data.source.coop/fiboa/austria/inspire_referenzen_2021.parquet',\n",
    "    'de_bb': 'https://data.source.coop/fiboa/de-bb/dfbk.parquet',\n",
    "    'de_nds': 'https://data.source.coop/fiboa/de-nds/FB_NDS.parquet',\n",
    "    'de_nrw': 'https://data.source.coop/fiboa/de-nrw/LFK-AKTI_EPSG25832.parquet',\n",
    "    'de_sh': 'https://data.source.coop/fiboa/de-sh/Feldbloecke_2024.parquet',\n",
    "}"
   ]
  },
  {
   "cell_type": "markdown",
   "id": "54a38d0e-236c-4c7a-9b7b-3079905317fc",
   "metadata": {},
   "source": [
    "In the following we download all data to the local file system once to make things in the following more simple.  \n",
    "You can skip this step if you don't want to download the files completely and directly work on the files in the internet."
   ]
  },
  {
   "cell_type": "code",
   "execution_count": 4,
   "id": "842db717-b932-4d9d-8235-4b85a15f8a0f",
   "metadata": {},
   "outputs": [],
   "source": [
    "import urllib.request\n",
    "import os\n",
    "for key, url in sources.items():\n",
    "    name = key + \".parquet\"\n",
    "    if not os.path.exists(name):\n",
    "        urllib.request.urlretrieve(url, name)\n",
    "    sources[key] = name"
   ]
  },
  {
   "cell_type": "markdown",
   "id": "4ac36e4f-cb0a-407e-9f10-e16366ba0a67",
   "metadata": {},
   "source": [
    "We load the data and reproject the geometries to EPSG:4326:"
   ]
  },
  {
   "cell_type": "code",
   "execution_count": 5,
   "id": "b2ed187b-8252-40e1-b715-ab5f2949ffe8",
   "metadata": {},
   "outputs": [],
   "source": [
    "data = {}\n",
    "for key, url in sources.items():\n",
    "    data[key] = load_parquet_data(url).to_crs(epsg=4326)"
   ]
  },
  {
   "cell_type": "markdown",
   "id": "e30d9c9b-3130-4926-8b7b-2204d42ab575",
   "metadata": {},
   "source": [
    "Merge all data into a single GeoDataFrame:"
   ]
  },
  {
   "cell_type": "code",
   "execution_count": 6,
   "id": "1b541d10-a4a4-4995-b14d-8b49b90fbabb",
   "metadata": {},
   "outputs": [
    {
     "name": "stdout",
     "output_type": "stream",
     "text": [
      "Number of rows: 1235364\n"
     ]
    }
   ],
   "source": [
    "import pandas as pd\n",
    "merged = pd.concat(data.values(), ignore_index=True)\n",
    "print(\"Number of rows: \" + str(len(merged)))"
   ]
  },
  {
   "cell_type": "markdown",
   "id": "c01714d2-1edf-4e14-8cd3-94bbff45dc33",
   "metadata": {},
   "source": [
    "You can visualize all the polygons using lonboard. For this, you need to install lonboard first: `pip install lonboard`. Afterwards you can run:"
   ]
  },
  {
   "cell_type": "code",
   "execution_count": 7,
   "id": "2f5817c8-4f78-4437-8262-6bddd82c9d47",
   "metadata": {},
   "outputs": [
    {
     "data": {
      "application/vnd.jupyter.widget-view+json": {
       "model_id": "7acec2dfe61144aca6aa165f7fe754c1",
       "version_major": 2,
       "version_minor": 1
      },
      "text/plain": [
       "Map(basemap_style=<CartoBasemap.DarkMatter: 'https://basemaps.cartocdn.com/gl/dark-matter-gl-style/style.json'…"
      ]
     },
     "execution_count": 7,
     "metadata": {},
     "output_type": "execute_result"
    }
   ],
   "source": [
    "from lonboard import viz\n",
    "viz(merged)"
   ]
  },
  {
   "cell_type": "markdown",
   "id": "1ba96ea8-751c-4061-b3ca-86cc6c623cf4",
   "metadata": {},
   "source": [
    "Now we can query across all field boundaries in Germany (selected states).  \n",
    "For example, how large is the largest field?"
   ]
  },
  {
   "cell_type": "code",
   "execution_count": 8,
   "id": "dacbca9e-c014-46eb-bb0c-42462f552742",
   "metadata": {},
   "outputs": [
    {
     "name": "stdout",
     "output_type": "stream",
     "text": [
      "Largest field size: 499.96600341796875 ha\n"
     ]
    }
   ],
   "source": [
    "max_area = merged['area'].max()\n",
    "print(f\"Largest field size: {max_area} ha\")"
   ]
  },
  {
   "cell_type": "markdown",
   "id": "f27db424-e2c1-4c2c-a4ae-d1746c83fcf3",
   "metadata": {},
   "source": [
    "And which are the 30 largest fields by area in Germany?"
   ]
  },
  {
   "cell_type": "code",
   "execution_count": 9,
   "id": "2ddc3e67-93ea-445c-a723-cc916e1137d7",
   "metadata": {},
   "outputs": [
    {
     "name": "stdout",
     "output_type": "stream",
     "text": [
      "                       id              flik        area\n",
      "4253     DEBBLI1464397727  DEBBLI1464397727  499.966003\n",
      "50116    DEBBLI0272200078  DEBBLI0272200078  437.395203\n",
      "737      DEBBLI1473412691  DEBBLI1473412691  427.259094\n",
      "34060    DEBBLI0372301712  DEBBLI0372301712  397.646912\n",
      "13327    DEBBLI0264008176  DEBBLI0264008176  383.888092\n",
      "957      DEBBLI1573412975  DEBBLI1573412975  361.886414\n",
      "37469    DEBBLI0363037869  DEBBLI0363037869  357.405701\n",
      "88227    DEBBLI0373305506  DEBBLI0373305506  349.223297\n",
      "29403    DEBBLI0373303862  DEBBLI0373303862     340.306\n",
      "78177    DEBBLI0264006263  DEBBLI0264006263  339.653015\n",
      "9375     DEBBLI2072551344  DEBBLI2072551344  325.146515\n",
      "44372    DEBBLI0372301947  DEBBLI0372301947  324.643402\n",
      "688      DEBBLI0373301041  DEBBLI0373301041  322.441193\n",
      "77274    DEBBLI0372301145  DEBBLI0372301145   313.92569\n",
      "53309    DEBBLI0364300793  DEBBLI0364300793  311.396393\n",
      "56905    DEBBLI0372301161  DEBBLI0372301161  310.567108\n",
      "84230    DEBBLI1867426372  DEBBLI1867426372  309.656799\n",
      "1058525  DESHLID050500150  DESHLID050500150  309.136597\n",
      "3479     DEBBLI0373305012  DEBBLI0373305012  305.720093\n",
      "15289    DEBBLI0563911981  DEBBLI0563911981  301.827698\n",
      "69356    DEBBLI2272551876  DEBBLI2272551876  301.556091\n",
      "378525   DENILI2056890021  DENILI2056890021  301.472107\n",
      "72239    DEBBLI2364400588  DEBBLI2364400588  300.346405\n",
      "61157    DEBBLI1672550741  DEBBLI1672550741  298.871796\n",
      "14599    DEBBLI1664398279  DEBBLI1664398279  294.993591\n",
      "54979    DEBBLI0368300988  DEBBLI0368300988  292.203888\n",
      "604684   DENILI2456720002  DENILI2456720002   291.93399\n",
      "29269    DEBBLI0373302152  DEBBLI0373302152  290.865112\n",
      "14985    DEBBLI0373306001  DEBBLI0373306001  286.132507\n",
      "46552    DEBBLI1763914374  DEBBLI1763914374  285.421295\n"
     ]
    }
   ],
   "source": [
    "indices = merged['area'].nlargest(30).index\n",
    "largest_fields = merged.loc[indices].sort_values(by='area', ascending=False)\n",
    "print(largest_fields[['id', 'flik', 'area']])"
   ]
  },
  {
   "cell_type": "markdown",
   "id": "702523f4-f0b3-470f-b7ac-a5f16e6f3f2b",
   "metadata": {},
   "source": [
    "It looks like most of them are in Berlin/Brandenburg (indicated by the DEBB in the flik column).  \n",
    "Maybe it's easier to visualize this on a map though:"
   ]
  },
  {
   "cell_type": "code",
   "execution_count": 10,
   "id": "c88038d1-fa3f-4287-bb58-2f3f0efd905f",
   "metadata": {},
   "outputs": [
    {
     "data": {
      "application/vnd.jupyter.widget-view+json": {
       "model_id": "a6e77e27f11a49e493e08ac7e09b6c0f",
       "version_major": 2,
       "version_minor": 1
      },
      "text/plain": [
       "Map(basemap_style=<CartoBasemap.DarkMatter: 'https://basemaps.cartocdn.com/gl/dark-matter-gl-style/style.json'…"
      ]
     },
     "execution_count": 10,
     "metadata": {},
     "output_type": "execute_result"
    }
   ],
   "source": [
    "viz(largest_fields)"
   ]
  }
 ],
 "metadata": {
  "kernelspec": {
   "display_name": "Python 3 (ipykernel)",
   "language": "python",
   "name": "python3"
  },
  "language_info": {
   "codemirror_mode": {
    "name": "ipython",
    "version": 3
   },
   "file_extension": ".py",
   "mimetype": "text/x-python",
   "name": "python",
   "nbconvert_exporter": "python",
   "pygments_lexer": "ipython3",
   "version": "3.10.12"
  }
 },
 "nbformat": 4,
 "nbformat_minor": 5
}
